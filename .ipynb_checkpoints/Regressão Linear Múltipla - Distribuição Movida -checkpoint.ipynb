{
 "cells": [
  {
   "cell_type": "code",
   "execution_count": 33,
   "id": "5b74e391",
   "metadata": {
    "scrolled": false
   },
   "outputs": [
    {
     "data": {
      "text/plain": [
       "array([[0, 0, 0, 0, 0, 0, 0, 0, 0, 0, 0, 0, 0, 0]])"
      ]
     },
     "metadata": {},
     "output_type": "display_data"
    },
    {
     "name": "stderr",
     "output_type": "stream",
     "text": [
      "C:\\Users\\lucas.carillo\\AppData\\Local\\Programs\\Python\\Python311\\Lib\\site-packages\\sklearn\\base.py:432: UserWarning: X has feature names, but LinearRegression was fitted without feature names\n",
      "  warnings.warn(\n"
     ]
    }
   ],
   "source": [
    "#Regressão Linear Multipla\n",
    "\n",
    "# Importando as bibliotecas necessárias\n",
    "\n",
    "import pandas as pd\n",
    "from sklearn.linear_model import LinearRegression\n",
    "import numpy as np\n",
    "#import matplotlib.pyplot as plt \n",
    "\n",
    "# Lendo a base de dados\n",
    "\n",
    "df = pd.read_csv(r'C:\\Users\\lucas.carillo\\Desktop\\lucas.csv', sep=';', engine= 'python', encoding='latin-1')\n",
    "\n",
    "#df['Frota'] = df['Frota'].astype(str).astype(int)\n",
    "#df['Ocupação'] = df['Ocupação'].astype(str).astype(int)\n",
    "#df['Idade'] = df['Idade'].astype(str).astype(int)\n",
    "#df['Distribuição'] = df['Distribuição'].astype(str).astype(int)\n",
    "\n",
    "X = df.iloc[:, :14].values\n",
    "y = df.iloc[:, -1].values\n",
    "\n",
    "regressor = LinearRegression()\n",
    "regressor.fit(X, y)\n",
    "\n",
    "new_data = np.array([0, 0, 0, 0, 0, 0, 0, 0, 0, 0, 0, 0, 0, 0]).reshape(1, -2)\n",
    "display(new_data)\n",
    "prediction = regressor.predict(new_data)[0]\n",
    "\n",
    "\n",
    "new_data = pd.read_csv(r'C:\\Users\\lucas.carillo\\Desktop\\lucas2.csv', sep=';', engine= 'python', encoding='latin-1')\n",
    "\n",
    "new_data[\"DISTRIBUIÇÃO\"] = regressor.predict(new_data[['FROTA OPERACIONAL', 'OPERACIONAIS EM LOJA', 'Ocupação', 'META DESMOB', 'VEÍCULOS EM IMPLANTAÇÃO', 'VEÍCULOS EM DISTRIBUIÇÃO', 'OCUPAÇÃO FUTURA', 'KM', 'IDADE', 'FROTA GRUPO', 'DISPONÍVEIS', 'DESMOBILIZAÇÃO', 'IMPLANTAÇÃO', 'Ocupação Grupo']])\n",
    "\n",
    "new_data[\"DISTRIBUIÇÃO\"] = new_data[\"DISTRIBUIÇÃO\"].round(0)\n",
    "\n",
    "new_data.to_csv(r'C:\\Users\\lucas.carillo\\Desktop\\RegrassaoLinear.csv', index=False, sep=';', encoding='latin-1')\n",
    "\n",
    "\n"
   ]
  },
  {
   "cell_type": "code",
   "execution_count": 25,
   "id": "8f57df7b",
   "metadata": {},
   "outputs": [
    {
     "data": {
      "text/plain": [
       "array([  1,   2,   3,   4,   5,   6,   7,   8,   9,  10,  11,  12,  13,\n",
       "        14,  15,  16,  17,  18,  19,  20,  21,  22,  23,  24,  25,  26,\n",
       "        27,  28,  29,  30,  31,  32,  33,  34,  35,  36,  37,  38,  39,\n",
       "        40,  41,  42,  43,  44,  45,  46,  47,  48,  49,  50,  51,  52,\n",
       "        53,  54,  55,  56,  57,  58,  59,  60,  61,  62,  63,  64,  65,\n",
       "        66,  67,  68,  69,  70,  71,  72,  73,  74,  75,  76,  77,  78,\n",
       "        79,  80,  81,  82,  83,  84,  85,  86,  87,  88,  89,  90,  91,\n",
       "        92,  93,  94,  95,  96,  97,  98,  99, 100, 101, 102, 103, 104,\n",
       "       105, 106, 107, 108, 109, 110, 111, 112, 113, 114, 115, 116, 117,\n",
       "       118, 119, 120, 121, 122, 123, 124, 125, 126, 127, 128, 129, 130,\n",
       "       131, 132, 133, 134, 135, 136, 137, 138, 139, 140, 141, 142, 143,\n",
       "       144, 145, 146, 147, 148, 149, 150, 151, 152, 153, 154, 155, 156,\n",
       "       157, 158, 159, 160, 161, 162, 163, 164, 165, 166, 167, 168, 169,\n",
       "       170, 171, 172, 173, 174, 175, 176, 177, 178, 179, 180, 181],\n",
       "      dtype=int64)"
      ]
     },
     "execution_count": 25,
     "metadata": {},
     "output_type": "execute_result"
    }
   ],
   "source": [
    "y"
   ]
  },
  {
   "cell_type": "code",
   "execution_count": 26,
   "id": "5bc7a92c",
   "metadata": {},
   "outputs": [
    {
     "data": {
      "text/plain": [
       "array([[4.390e+02, 4.000e+01, 8.410e-01, ..., 0.000e+00, 6.000e+00,\n",
       "        8.890e-01],\n",
       "       [3.230e+02, 1.800e+01, 9.070e-01, ..., 0.000e+00, 6.000e+00,\n",
       "        9.000e-01],\n",
       "       [1.160e+02, 1.200e+01, 8.210e-01, ..., 0.000e+00, 2.000e+00,\n",
       "        8.750e-01],\n",
       "       ...,\n",
       "       [1.644e+03, 1.970e+02, 8.350e-01, ..., 0.000e+00, 4.000e+00,\n",
       "        9.050e-01],\n",
       "       [5.340e+02, 1.800e+01, 9.140e-01, ..., 0.000e+00, 4.000e+00,\n",
       "        8.570e-01],\n",
       "       [4.210e+02, 4.900e+01, 8.310e-01, ..., 0.000e+00, 3.000e+00,\n",
       "        8.150e-01]])"
      ]
     },
     "execution_count": 26,
     "metadata": {},
     "output_type": "execute_result"
    }
   ],
   "source": [
    "X"
   ]
  },
  {
   "cell_type": "code",
   "execution_count": null,
   "id": "e2f02020",
   "metadata": {},
   "outputs": [],
   "source": []
  }
 ],
 "metadata": {
  "kernelspec": {
   "display_name": "Python 3 (ipykernel)",
   "language": "python",
   "name": "python3"
  },
  "language_info": {
   "codemirror_mode": {
    "name": "ipython",
    "version": 3
   },
   "file_extension": ".py",
   "mimetype": "text/x-python",
   "name": "python",
   "nbconvert_exporter": "python",
   "pygments_lexer": "ipython3",
   "version": "3.11.2"
  }
 },
 "nbformat": 4,
 "nbformat_minor": 5
}
